{
 "cells": [
  {
   "cell_type": "markdown",
   "id": "e4b09a86",
   "metadata": {},
   "source": [
    "A correlation coefficient of 0.7 indicates a strong positive relationship between SAT scores and college GPA. The correlation coefficient ranges from -1 to 1, where 1 represents a perfect positive relationship, 0 represents no relationship, and -1 represents a perfect negative relationship.\n",
    "\n",
    "In this case, the positive correlation coefficient of 0.7 suggests that as SAT scores increase, college GPAs also tend to increase. The strength of the correlation coefficient indicates that there is a relatively strong and consistent relationship between these two variables. However, it's important to note that correlation does not imply causation. The correlation coefficient only measures the strength and direction of the relationship, but it does not determine whether SAT scores directly cause higher college GPAs or vice versa."
   ]
  },
  {
   "cell_type": "code",
   "execution_count": 1,
   "id": "0e9474aa",
   "metadata": {},
   "outputs": [
    {
     "name": "stdout",
     "output_type": "stream",
     "text": [
      "----------------------------------------------------------------------------------------------------\n"
     ]
    }
   ],
   "source": [
    "print(\"-\"*100)"
   ]
  },
  {
   "cell_type": "markdown",
   "id": "850e7dd7",
   "metadata": {},
   "source": [
    "a. To find the percentage of individuals with heights between 160 cm and 180 cm, we need to calculate the area under the normal distribution curve between these two heights.\n",
    "\n",
    "Since the data is approximately normally distributed, we can use the empirical rule (also known as the 68-95-99.7 rule) to estimate the percentage. According to this rule, approximately 68% of the data falls within one standard deviation of the mean, 95% falls within two standard deviations, and 99.7% falls within three standard deviations.\n",
    "\n",
    "The height range between 160 cm and 180 cm is within one standard deviation of the mean, which is 10 cm. Therefore, approximately 68% of the individuals in the dataset have heights between 160 cm and 180 cm.\n",
    "\n",
    "b. The mean height of the dataset is 170 cm with a standard deviation of 10 cm. To calculate the probability that the average height of a randomly selected group of 100 individuals is greater than 175 cm, we need to use the sampling distribution of the mean.\n",
    "\n",
    "The sampling distribution of the mean follows a normal distribution with the same mean as the original dataset but a smaller standard deviation. The standard deviation of the sampling distribution is equal to the standard deviation of the dataset divided by the square root of the sample size. In this case, the sample size is 100.\n",
    "\n",
    "Standard deviation of the sampling distribution = 10 cm / √100 = 10 cm / 10 = 1 cm\n",
    "\n",
    "Now we can use the z-score formula to calculate the probability:\n",
    "\n",
    "z = (x - μ) / σ\n",
    "\n",
    "where x is the desired height (175 cm), μ is the mean height (170 cm), and σ is the standard deviation of the sampling distribution (1 cm).\n",
    "\n",
    "z = (175 - 170) / 1 = 5\n",
    "\n",
    "Using a standard normal distribution table or a calculator, we can find the probability corresponding to a z-score of 5. The probability is very close to 1 (or 100%).\n",
    "\n",
    "c. To calculate the z-score corresponding to a height of 185 cm, we can use the z-score formula:\n",
    "\n",
    "z = (x - μ) / σ\n",
    "\n",
    "where x is the height (185 cm), μ is the mean height (170 cm), and σ is the standard deviation of the dataset (10 cm).\n",
    "\n",
    "z = (185 - 170) / 10 = 15 / 10 = 1.5\n",
    "\n",
    "So, the z-score corresponding to a height of 185 cm is 1.5.\n",
    "\n",
    "d. If 5% of the dataset has heights below a certain value, we need to find the height corresponding to the 5th percentile.\n",
    "\n",
    "Using a standard normal distribution table or a calculator, we can find the z-score corresponding to the 5th percentile. The z-score is approximately -1.645.\n",
    "\n",
    "Now, we can use the z-score formula to find the height:\n",
    "\n",
    "z = (x - μ) / σ\n",
    "\n",
    "-1.645 = (x - 170) / 10\n",
    "\n",
    "Solving for x, we get:\n",
    "\n",
    "-1.645 * 10 + 170 = x\n",
    "\n",
    "x ≈ 153.55\n",
    "\n",
    "Therefore, the approximate height corresponding to the threshold of 5% is around 153.55 cm.\n",
    "\n",
    "e. The coefficient of variation (CV) is a measure of relative variability and is calculated by dividing the standard deviation by the mean, then multiplying by 100 to express it as a percentage.\n",
    "\n",
    "CV = (standard deviation / mean) * 100\n",
    "\n",
    "In this case, the standard deviation is 10 cm and the mean is 170 cm.\n",
    "\n",
    "CV = (10 / 170) * 100 ≈ 5.88"
   ]
  },
  {
   "cell_type": "code",
   "execution_count": 2,
   "id": "07e03492",
   "metadata": {},
   "outputs": [
    {
     "name": "stdout",
     "output_type": "stream",
     "text": [
      "----------------------------------------------------------------------------------------------------\n"
     ]
    }
   ],
   "source": [
    "print(\"-\"*100)"
   ]
  },
  {
   "cell_type": "markdown",
   "id": "7257c1fe",
   "metadata": {},
   "source": [
    "To calculate the probability that the number drawn from the hat is a perfect square, we need to determine the number of favorable outcomes (perfect squares) and the total number of possible outcomes.\n",
    "\n",
    "There are four perfect squares between 1 and 20, which are 1, 4, 9, and 16. These are the favorable outcomes.\n",
    "\n",
    "The total number of possible outcomes is 20, as there are 20 slips of paper in the hat.\n",
    "\n",
    "Therefore, the probability of drawing a perfect square is:\n",
    "\n",
    "Probability = (Number of favorable outcomes) / (Total number of possible outcomes)\n",
    "Probability = 4 / 20\n",
    "Probability = 0.2\n",
    "\n",
    "So, the probability of drawing a perfect square is 0.2 or 20%."
   ]
  },
  {
   "cell_type": "code",
   "execution_count": 3,
   "id": "a7add866",
   "metadata": {},
   "outputs": [
    {
     "name": "stdout",
     "output_type": "stream",
     "text": [
      "----------------------------------------------------------------------------------------------------\n"
     ]
    }
   ],
   "source": [
    "print(\"-\"*100)"
   ]
  },
  {
   "cell_type": "markdown",
   "id": "cc346268",
   "metadata": {},
   "source": [
    "\n",
    "To solve this problem, we can use Bayes' theorem. Let's define the events as follows:\n",
    "\n",
    "A: The taxi belongs to Company A.\n",
    "B: The taxi belongs to Company B.\n",
    "L: The taxi is late.\n",
    "\n",
    "We are given the following probabilities:\n",
    "P(A) = 0.8 (Company A has 80% of the taxis)\n",
    "P(B) = 0.2 (Company B has 20% of the taxis)\n",
    "P(L|A) = 0.05 (Company A's taxis have a 95% success rate, so the probability of being late is 1 - 0.95 = 0.05)\n",
    "P(L|B) = 0.1 (Company B's taxis have a 90% success rate, so the probability of being late is 1 - 0.9 = 0.1)\n",
    "\n",
    "We need to calculate P(A|L), which represents the probability that a randomly selected taxi, given that it is late, belongs to Company A.\n",
    "\n",
    "Using Bayes' theorem:\n",
    "\n",
    "P(A|L) = (P(L|A) * P(A)) / (P(L|A) * P(A) + P(L|B) * P(B))\n",
    "\n",
    "Plugging in the given probabilities:\n",
    "\n",
    "P(A|L) = (0.05 * 0.8) / (0.05 * 0.8 + 0.1 * 0.2)\n",
    "P(A|L) = 0.04 / (0.04 + 0.02)\n",
    "P(A|L) = 0.04 / 0.06\n",
    "P(A|L) ≈ 0.67\n",
    "\n",
    "Therefore, the probability that a randomly selected taxi, given that it is late, belongs to Company A is approximately 0.67 or 67%."
   ]
  },
  {
   "cell_type": "code",
   "execution_count": 4,
   "id": "8eeed137",
   "metadata": {},
   "outputs": [
    {
     "name": "stdout",
     "output_type": "stream",
     "text": [
      "----------------------------------------------------------------------------------------------------\n"
     ]
    }
   ],
   "source": [
    "print(\"-\"*100)"
   ]
  },
  {
   "cell_type": "markdown",
   "id": "0166586a",
   "metadata": {},
   "source": [
    "The equations of the two regression lines obtained in the correlation analysis between variables X and Y are:\n",
    "\n",
    "2X + 3 − 8 = 0\n",
    "2Y + X − 5 = 0\n",
    "\n",
    "a. To find the variance of Y, we need to know the variance of X and the slope of the regression line of Y on X. Unfortunately, the equations provided do not give us the slope or intercept of the regression line for Y. Without this information, we cannot calculate the variance of Y.\n",
    "\n",
    "b. The coefficient of determination (R^2) represents the proportion of the variance in the dependent variable (Y) that can be explained by the independent variable (X). It ranges from 0 to 1, where 0 indicates no relationship and 1 indicates a perfect relationship.\n",
    "\n",
    "To calculate the coefficient of determination, we need to know the correlation coefficient between X and Y. However, the correlation coefficient is not given in the information provided. Without the correlation coefficient, we cannot determine the coefficient of determination.\n",
    "\n",
    "c. The standard error of estimate measures the average distance between the observed values and the predicted values on the regression line. To calculate the standard error of estimate, we need the sum of squares of residuals (SSE), which requires the actual data points.\n",
    "\n",
    "Without the actual data points or further information about the regression lines, we cannot calculate the standard error of estimate for X on Y and Y on X."
   ]
  },
  {
   "cell_type": "code",
   "execution_count": 5,
   "id": "b8abfe17",
   "metadata": {},
   "outputs": [
    {
     "name": "stdout",
     "output_type": "stream",
     "text": [
      "----------------------------------------------------------------------------------------------------\n"
     ]
    }
   ],
   "source": [
    "print(\"-\"*100)"
   ]
  },
  {
   "cell_type": "markdown",
   "id": "2f019abc",
   "metadata": {},
   "source": [
    "a. To calculate the probability that exactly 20 bulbs are defective, we can use the binomial probability formula:\n",
    "    Where:\n",
    "n = total number of trials (500 in this case)\n",
    "k = number of successful trials (20 defective bulbs)\n",
    "p = probability of success (0.05, the probability of a bulb being defective)\n",
    "(1 - p) = probability of failure (0.95, the probability of a bulb not being defective)\n",
    "\n",
    "Plugging in the values:\n",
    "\n",
    "P(X = 20) = (500 C 20) * (0.05)^20 * (0.95)^(500 - 20)\n",
    "\n",
    "b. To find the probability that at least 10 bulbs are defective, we need to calculate the sum of probabilities for 10 or more defective bulbs:\n",
    "\n",
    "P(X >= 10) = P(X = 10) + P(X = 11) + ... + P(X = 500)\n",
    "P(X >= 10) = 1 - P(X < 10)\n",
    "\n",
    "c. To find the probability that at most 15 bulbs are defective, we need to calculate the sum of probabilities for 0 to 15 defective bulbs:\n",
    "\n",
    "P(X <= 15) = P(X = 0) + P(X = 1) + ... + P(X = 15)\n",
    "P(X <= 15) = 1 - P(X > 15)\n",
    "\n",
    "d. The expected value or the mean of a binomial distribution can be calculated using the formula:\n",
    "\n",
    "E(X) = n * p\n",
    "\n",
    "Plugging in the values:\n",
    "\n",
    "E(X) = 500 * 0.05\n",
    "\n",
    "So, on average, you would expect 25 defective bulbs in a batch of 500."
   ]
  },
  {
   "cell_type": "code",
   "execution_count": 6,
   "id": "45be1e52",
   "metadata": {},
   "outputs": [
    {
     "name": "stdout",
     "output_type": "stream",
     "text": [
      "----------------------------------------------------------------------------------------------------\n"
     ]
    }
   ],
   "source": [
    "print(\"-\"*100)"
   ]
  },
  {
   "cell_type": "markdown",
   "id": "fa1d2e80",
   "metadata": {},
   "source": [
    "To determine if there is a significant difference in the mean improvement scores between the two groups (Group A and Group B), we can conduct an independent samples t-test. This test compares the means of two independent groups to assess if there is a statistically significant difference. \n",
    "\n",
    "Let's perform the t-test:\n",
    "\n",
    "a. The hypotheses for the t-test are as follows:\n",
    "\n",
    "Null hypothesis (H0): There is no significant difference between the mean improvement scores of Group A and Group B.\n",
    "Alternative hypothesis (Ha): There is a significant difference between the mean improvement scores of Group A and Group B.\n",
    "\n",
    "We will use a significance level (α) of 0.05.\n",
    "\n",
    "First, we calculate the t-statistic using the following formula:\n",
    "\n",
    "t = (mean_A - mean_B) / sqrt((squared standard deviation_A^2 / n_A) + (squared standard deviation_B^2 / n_B))\n",
    "\n",
    "where:\n",
    "mean_A = mean improvement score for Group A\n",
    "mean_B = mean improvement score for Group B\n",
    "standard deviation_A = standard deviation of improvement for Group A\n",
    "standard deviation_B = standard deviation of improvement for Group B\n",
    "n_A = sample size of Group A\n",
    "n_B = sample size of Group B\n",
    "\n",
    "Plugging in the given values:\n",
    "mean_A = 2.5\n",
    "mean_B = 2.2\n",
    "standard deviation_A = 0.8\n",
    "standard deviation_B = 0.6\n",
    "n_A = n_B = 30\n",
    "\n",
    "t = (2.5 - 2.2) / sqrt((0.8^2 / 30) + (0.6^2 / 30))\n",
    "\n",
    "Now, we can calculate the degrees of freedom (df) using the following formula:\n",
    "\n",
    "df = n_A + n_B - 2\n",
    "\n",
    "Plugging in the values:\n",
    "df = 30 + 30 - 2 = 58\n",
    "\n",
    "Using the t-statistic and degrees of freedom, we can determine the critical t-value from the t-distribution table.\n",
    "\n",
    "Finally, we compare the calculated t-value with the critical t-value to determine if there is a significant difference. If the calculated t-value is greater than the critical t-value, we reject the null hypothesis.\n",
    "\n",
    "b. Based on the t-test results, if the calculated t-value is greater than the critical t-value at a significance level of 0.05, we reject the null hypothesis. This would indicate that there is a significant difference in the mean improvement scores between the two groups.\n",
    "\n",
    "To provide a conclusion in the context of the study, we would state that the new drug (Group A) shows a statistically significant difference in improvement compared to the standard drug (Group B). However, it is important to note that this conclusion is based on the given data and assumptions of the t-test. Further research and studies may be required to validate the findings and draw more definitive conclusions."
   ]
  },
  {
   "cell_type": "code",
   "execution_count": 7,
   "id": "6bb48a41",
   "metadata": {},
   "outputs": [
    {
     "name": "stdout",
     "output_type": "stream",
     "text": [
      "----------------------------------------------------------------------------------------------------\n"
     ]
    }
   ],
   "source": [
    "print(\"-\"*100)"
   ]
  },
  {
   "cell_type": "code",
   "execution_count": null,
   "id": "b2220dfb",
   "metadata": {},
   "outputs": [],
   "source": []
  }
 ],
 "metadata": {
  "kernelspec": {
   "display_name": "Python 3 (ipykernel)",
   "language": "python",
   "name": "python3"
  },
  "language_info": {
   "codemirror_mode": {
    "name": "ipython",
    "version": 3
   },
   "file_extension": ".py",
   "mimetype": "text/x-python",
   "name": "python",
   "nbconvert_exporter": "python",
   "pygments_lexer": "ipython3",
   "version": "3.9.12"
  }
 },
 "nbformat": 4,
 "nbformat_minor": 5
}
